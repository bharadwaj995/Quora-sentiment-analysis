{
  "nbformat": 4,
  "nbformat_minor": 0,
  "metadata": {
    "colab": {
      "name": "Quora.ipynb",
      "provenance": [],
      "collapsed_sections": [],
      "machine_shape": "hm"
    },
    "kernelspec": {
      "name": "python3",
      "display_name": "Python 3"
    },
    "accelerator": "GPU"
  },
  "cells": [
    {
      "cell_type": "code",
      "metadata": {
        "id": "byzodOAF6vh3",
        "colab_type": "code",
        "colab": {}
      },
      "source": [
        "!apt-get install openjdk-8-jdk-headless -qq > /dev/null"
      ],
      "execution_count": 0,
      "outputs": []
    },
    {
      "cell_type": "code",
      "metadata": {
        "id": "UhxDhv5K634H",
        "colab_type": "code",
        "colab": {}
      },
      "source": [
        "!wget -q http://www-eu.apache.org/dist/spark/spark-2.4.4/spark-2.4.4-bin-hadoop2.7.tgz\n",
        "!tar xf spark-2.4.4-bin-hadoop2.7.tgz\n",
        "!pip install -q findspark"
      ],
      "execution_count": 0,
      "outputs": []
    },
    {
      "cell_type": "code",
      "metadata": {
        "id": "oHOb8neK7vk5",
        "colab_type": "code",
        "outputId": "f0e439ed-c693-469e-ec62-bf25348e12c1",
        "colab": {
          "base_uri": "https://localhost:8080/",
          "height": 121
        }
      },
      "source": [
        "!pip install py4j"
      ],
      "execution_count": 0,
      "outputs": [
        {
          "output_type": "stream",
          "text": [
            "Collecting py4j\n",
            "\u001b[?25l  Downloading https://files.pythonhosted.org/packages/04/de/2d314a921ef4c20b283e1de94e0780273678caac901564df06b948e4ba9b/py4j-0.10.8.1-py2.py3-none-any.whl (196kB)\n",
            "\r\u001b[K     |█▊                              | 10kB 18.5MB/s eta 0:00:01\r\u001b[K     |███▍                            | 20kB 2.2MB/s eta 0:00:01\r\u001b[K     |█████                           | 30kB 3.2MB/s eta 0:00:01\r\u001b[K     |██████▊                         | 40kB 2.1MB/s eta 0:00:01\r\u001b[K     |████████▍                       | 51kB 2.6MB/s eta 0:00:01\r\u001b[K     |██████████                      | 61kB 3.1MB/s eta 0:00:01\r\u001b[K     |███████████▊                    | 71kB 3.6MB/s eta 0:00:01\r\u001b[K     |█████████████▍                  | 81kB 4.0MB/s eta 0:00:01\r\u001b[K     |███████████████                 | 92kB 4.5MB/s eta 0:00:01\r\u001b[K     |████████████████▊               | 102kB 3.5MB/s eta 0:00:01\r\u001b[K     |██████████████████▍             | 112kB 3.5MB/s eta 0:00:01\r\u001b[K     |████████████████████            | 122kB 3.5MB/s eta 0:00:01\r\u001b[K     |█████████████████████▊          | 133kB 3.5MB/s eta 0:00:01\r\u001b[K     |███████████████████████▍        | 143kB 3.5MB/s eta 0:00:01\r\u001b[K     |█████████████████████████       | 153kB 3.5MB/s eta 0:00:01\r\u001b[K     |██████████████████████████▊     | 163kB 3.5MB/s eta 0:00:01\r\u001b[K     |████████████████████████████▍   | 174kB 3.5MB/s eta 0:00:01\r\u001b[K     |██████████████████████████████  | 184kB 3.5MB/s eta 0:00:01\r\u001b[K     |███████████████████████████████▊| 194kB 3.5MB/s eta 0:00:01\r\u001b[K     |████████████████████████████████| 204kB 3.5MB/s \n",
            "\u001b[?25hInstalling collected packages: py4j\n",
            "Successfully installed py4j-0.10.8.1\n"
          ],
          "name": "stdout"
        }
      ]
    },
    {
      "cell_type": "code",
      "metadata": {
        "id": "aUPM3AO27AHi",
        "colab_type": "code",
        "colab": {}
      },
      "source": [
        "import os\n",
        "os.environ[\"JAVA_HOME\"] = \"/usr/lib/jvm/java-8-openjdk-amd64\"\n",
        "os.environ[\"SPARK_HOME\"] = \"/content/spark-2.4.4-bin-hadoop2.7\""
      ],
      "execution_count": 0,
      "outputs": []
    },
    {
      "cell_type": "code",
      "metadata": {
        "id": "hlulGwV576Ta",
        "colab_type": "code",
        "colab": {}
      },
      "source": [
        "import findspark\n",
        "findspark.init(\"spark-2.4.4-bin-hadoop2.7\")# SPARK_HOME\n",
        "\n",
        "from pyspark.sql import SparkSession\n",
        "spark = SparkSession.builder.master(\"local[*]\").getOrCreate()"
      ],
      "execution_count": 0,
      "outputs": []
    },
    {
      "cell_type": "code",
      "metadata": {
        "id": "IyN-NUUM7VAr",
        "colab_type": "code",
        "colab": {}
      },
      "source": [
        "import pandas as pd\n",
        "data = pd.read_csv('/content/train.csv')"
      ],
      "execution_count": 0,
      "outputs": []
    },
    {
      "cell_type": "code",
      "metadata": {
        "id": "1ntKfYrhGApo",
        "colab_type": "code",
        "outputId": "bbc33652-66f1-47ba-a147-b36298f1044c",
        "colab": {
          "base_uri": "https://localhost:8080/",
          "height": 296
        }
      },
      "source": [
        "import seaborn as sns\n",
        "sns.countplot(x='target', data=data)"
      ],
      "execution_count": 72,
      "outputs": [
        {
          "output_type": "execute_result",
          "data": {
            "text/plain": [
              "<matplotlib.axes._subplots.AxesSubplot at 0x7f46d7dd8d30>"
            ]
          },
          "metadata": {
            "tags": []
          },
          "execution_count": 72
        },
        {
          "output_type": "display_data",
          "data": {
            "image/png": "[encoded data removed]",
            "text/plain": [
              "<Figure size 432x288 with 1 Axes>"
            ]
          },
          "metadata": {
            "tags": []
          }
        }
      ]
    },
    {
      "cell_type": "code",
      "metadata": {
        "id": "2X0z2vj9Zq-7",
        "colab_type": "code",
        "colab": {}
      },
      "source": [
        "from sklearn.model_selection import train_test_split\n",
        "from keras.preprocessing.text import Tokenizer\n",
        "from keras.preprocessing.sequence import pad_sequences\n",
        "from keras.layers import Dense, Input, LSTM, Embedding, Dropout, Activation, CuDNNGRU, Conv1D, CuDNNLSTM, concatenate\n",
        "from keras.layers import Bidirectional, GlobalMaxPool1D, Dropout, SpatialDropout1D, GlobalAveragePooling1D, GlobalMaxPooling1D, MaxPooling1D\n",
        "from keras.models import Model\n",
        "from keras import initializers, regularizers, constraints, optimizers, layers\n",
        "import numpy as np\n",
        "import gc"
      ],
      "execution_count": 0,
      "outputs": []
    },
    {
      "cell_type": "code",
      "metadata": {
        "id": "4mg9c85lol_0",
        "colab_type": "code",
        "colab": {}
      },
      "source": [
        "\n",
        "def remove_punctuations(text):\n",
        "    text = text.translate(str.maketrans(\"\",\"\", string.punctuation))\n",
        "    text = text.translate(str.maketrans(\"\",\"\", '1234567890'))\n",
        "    return text"
      ],
      "execution_count": 0,
      "outputs": []
    },
    {
      "cell_type": "code",
      "metadata": {
        "id": "PWeA0jtotLbO",
        "colab_type": "code",
        "colab": {}
      },
      "source": [
        "import string"
      ],
      "execution_count": 0,
      "outputs": []
    },
    {
      "cell_type": "code",
      "metadata": {
        "id": "oCD8_dLGtRNZ",
        "colab_type": "code",
        "colab": {}
      },
      "source": [
        "data['question_text'] = data['question_text'].apply(lambda x: remove_punctuations(x))\n",
        "test_data=data[1000000:]\n",
        "data=data[:1000000]\n",
        "train, test = train_test_split(data, test_size=0.2, random_state=2018)\n",
        "train_X = train[\"question_text\"].fillna(\"_na_\").values\n",
        "test_X = test[\"question_text\"].fillna(\"_na_\").values\n",
        "test_data_X = test_data[\"question_text\"].fillna(\"_na_\").values\n",
        "test_data_y = test_data[\"target\"].values"
      ],
      "execution_count": 0,
      "outputs": []
    },
    {
      "cell_type": "code",
      "metadata": {
        "id": "6vcYKK_d35wQ",
        "colab_type": "code",
        "colab": {}
      },
      "source": [
        "tokenizer = Tokenizer(num_words=40000)\n",
        "tokenizer.fit_on_texts(list(train_X))\n",
        "train_X = tokenizer.texts_to_sequences(train_X)\n",
        "test_X = tokenizer.texts_to_sequences(test_X)"
      ],
      "execution_count": 0,
      "outputs": []
    },
    {
      "cell_type": "code",
      "metadata": {
        "id": "ew91c9tBa-Xe",
        "colab_type": "code",
        "colab": {}
      },
      "source": [
        "train_X = pad_sequences(train_X, maxlen=70)"
      ],
      "execution_count": 0,
      "outputs": []
    },
    {
      "cell_type": "code",
      "metadata": {
        "id": "jJi0bcw-4fp0",
        "colab_type": "code",
        "colab": {}
      },
      "source": [
        "test_X = pad_sequences(test_X, maxlen=70)"
      ],
      "execution_count": 0,
      "outputs": []
    },
    {
      "cell_type": "code",
      "metadata": {
        "id": "xszzoyu7qDBT",
        "colab_type": "code",
        "colab": {}
      },
      "source": [
        "train_y = train['target'].values\n",
        "test_y = test['target'].values"
      ],
      "execution_count": 0,
      "outputs": []
    },
    {
      "cell_type": "code",
      "metadata": {
        "id": "xSidxpu7O62L",
        "colab_type": "code",
        "outputId": "40e3b585-6bbd-4264-e8d7-817523eb02af",
        "colab": {
          "base_uri": "https://localhost:8080/",
          "height": 34
        }
      },
      "source": [
        "train_X.shape"
      ],
      "execution_count": 81,
      "outputs": [
        {
          "output_type": "execute_result",
          "data": {
            "text/plain": [
              "(800000, 70)"
            ]
          },
          "metadata": {
            "tags": []
          },
          "execution_count": 81
        }
      ]
    },
    {
      "cell_type": "code",
      "metadata": {
        "id": "-P4qkoMR4WC9",
        "colab_type": "code",
        "colab": {}
      },
      "source": [
        "train_X=train_X.reshape(-1,70)\n",
        "test_X=test_X.reshape(-1,70)"
      ],
      "execution_count": 0,
      "outputs": []
    },
    {
      "cell_type": "code",
      "metadata": {
        "id": "72Iv3QfDJGw6",
        "colab_type": "code",
        "outputId": "01fd787b-4c1a-4fad-c8a6-98d116d3054e",
        "colab": {
          "base_uri": "https://localhost:8080/",
          "height": 34
        }
      },
      "source": [
        "train_X.shape"
      ],
      "execution_count": 83,
      "outputs": [
        {
          "output_type": "execute_result",
          "data": {
            "text/plain": [
              "(800000, 70)"
            ]
          },
          "metadata": {
            "tags": []
          },
          "execution_count": 83
        }
      ]
    },
    {
      "cell_type": "code",
      "metadata": {
        "id": "-33ASuxWXNjO",
        "colab_type": "code",
        "outputId": "b1e946ea-9e6c-4ac1-fd3d-d545f0aefc16",
        "colab": {
          "base_uri": "https://localhost:8080/",
          "height": 34
        }
      },
      "source": [
        "from google.colab import drive\n",
        "drive.mount('/content/drive')"
      ],
      "execution_count": 84,
      "outputs": [
        {
          "output_type": "stream",
          "text": [
            "Drive already mounted at /content/drive; to attempt to forcibly remount, call drive.mount(\"/content/drive\", force_remount=True).\n"
          ],
          "name": "stdout"
        }
      ]
    },
    {
      "cell_type": "markdown",
      "metadata": {
        "id": "Q8Y2RnXFFcT5",
        "colab_type": "text"
      },
      "source": [
        "Glove Embedding"
      ]
    },
    {
      "cell_type": "code",
      "metadata": {
        "id": "4bld-lV-FbIi",
        "colab_type": "code",
        "outputId": "36f40e0a-ddb1-4c99-bc41-4729982426c2",
        "colab": {
          "base_uri": "https://localhost:8080/",
          "height": 87
        }
      },
      "source": [
        "EMBEDDING_FILE = '/content/drive/My Drive/ML Project_Quora Insincere Data/ML Project/Embeddings/glove.840B.300d/glove.840B.300d.txt'\n",
        "def get_coefs(word,*arr): return word, np.asarray(arr, dtype='float32')\n",
        "embeddings_index = dict(get_coefs(*o.split(\" \")) for o in open(EMBEDDING_FILE))\n",
        "\n",
        "all_embs = np.stack(embeddings_index.values())\n",
        "emb_mean,emb_std = all_embs.mean(), all_embs.std()\n",
        "embed_size = all_embs.shape[1]\n",
        "\n",
        "word_index = tokenizer.word_index\n",
        "nb_words = min(40000, len(word_index))\n",
        "embedding_matrix_1 = np.random.normal(emb_mean, emb_std, (nb_words, embed_size))\n",
        "for word, i in word_index.items():\n",
        "    if i >= 40000: continue\n",
        "    embedding_vector = embeddings_index.get(word)\n",
        "    if embedding_vector is not None: embedding_matrix_1[i] = embedding_vector\n",
        "\n",
        "del embeddings_index; gc.collect() "
      ],
      "execution_count": 85,
      "outputs": [
        {
          "output_type": "stream",
          "text": [
            "/usr/local/lib/python3.6/dist-packages/IPython/core/interactiveshell.py:2822: FutureWarning: arrays to stack must be passed as a \"sequence\" type such as list or tuple. Support for non-sequence iterables such as generators is deprecated as of NumPy 1.16 and will raise an error in the future.\n",
            "  if self.run_code(code, result):\n"
          ],
          "name": "stderr"
        },
        {
          "output_type": "execute_result",
          "data": {
            "text/plain": [
              "22"
            ]
          },
          "metadata": {
            "tags": []
          },
          "execution_count": 85
        }
      ]
    },
    {
      "cell_type": "markdown",
      "metadata": {
        "id": "I52HECs0rPDW",
        "colab_type": "text"
      },
      "source": [
        "Wiki news"
      ]
    },
    {
      "cell_type": "code",
      "metadata": {
        "id": "_p47QX41rNp2",
        "colab_type": "code",
        "outputId": "d8a3ea9a-cfda-4833-e637-8b85080fe6ad",
        "colab": {
          "base_uri": "https://localhost:8080/",
          "height": 87
        }
      },
      "source": [
        "EMBEDDING_FILE = '/content/drive/My Drive/ML Project_Quora Insincere Data/ML Project/Embeddings/wiki-news-300d-1M/wiki-news-300d-1M.vec'\n",
        "def get_coefs(word,*arr): return word, np.asarray(arr, dtype='float32')\n",
        "embeddings_index = dict(get_coefs(*o.split(\" \")) for o in open(EMBEDDING_FILE) if len(o)>100)\n",
        "\n",
        "all_embs = np.stack(embeddings_index.values())\n",
        "emb_mean,emb_std = all_embs.mean(), all_embs.std()\n",
        "embed_size = all_embs.shape[1]\n",
        "\n",
        "word_index = tokenizer.word_index\n",
        "nb_words = min(40000, len(word_index))\n",
        "embedding_matrix_2 = np.random.normal(emb_mean, emb_std, (nb_words, embed_size))\n",
        "for word, i in word_index.items():\n",
        "    if i >= 40000: continue\n",
        "    embedding_vector = embeddings_index.get(word)\n",
        "    if embedding_vector is not None: embedding_matrix_2[i] = embedding_vector\n",
        "        \n",
        "del embeddings_index; gc.collect()"
      ],
      "execution_count": 86,
      "outputs": [
        {
          "output_type": "stream",
          "text": [
            "/usr/local/lib/python3.6/dist-packages/IPython/core/interactiveshell.py:2822: FutureWarning: arrays to stack must be passed as a \"sequence\" type such as list or tuple. Support for non-sequence iterables such as generators is deprecated as of NumPy 1.16 and will raise an error in the future.\n",
            "  if self.run_code(code, result):\n"
          ],
          "name": "stderr"
        },
        {
          "output_type": "execute_result",
          "data": {
            "text/plain": [
              "22"
            ]
          },
          "metadata": {
            "tags": []
          },
          "execution_count": 86
        }
      ]
    },
    {
      "cell_type": "markdown",
      "metadata": {
        "id": "mNiiQOaJsU-1",
        "colab_type": "text"
      },
      "source": [
        "Paragrams"
      ]
    },
    {
      "cell_type": "code",
      "metadata": {
        "id": "nQm7QqeEFbRI",
        "colab_type": "code",
        "outputId": "5ab575e0-5fcb-489c-e183-06b143d504c3",
        "colab": {
          "base_uri": "https://localhost:8080/",
          "height": 87
        }
      },
      "source": [
        "EMBEDDING_FILE = '/content/drive/My Drive/ML Project_Quora Insincere Data/ML Project/Embeddings/paragram_300_sl999/paragram_300_sl999.txt'\n",
        "def get_coefs(word,*arr): return word, np.asarray(arr, dtype='float32')\n",
        "embeddings_index = dict(get_coefs(*o.split(\" \")) for o in open(EMBEDDING_FILE, encoding=\"utf8\", errors='ignore') if len(o)>100)\n",
        "\n",
        "all_embs = np.stack(embeddings_index.values())\n",
        "emb_mean,emb_std = all_embs.mean(), all_embs.std()\n",
        "embed_size = all_embs.shape[1]\n",
        "\n",
        "word_index = tokenizer.word_index\n",
        "nb_words = min(40000, len(word_index))\n",
        "embedding_matrix_3 = np.random.normal(emb_mean, emb_std, (nb_words, embed_size))\n",
        "for word, i in word_index.items():\n",
        "    if i >= 40000: continue\n",
        "    embedding_vector = embeddings_index.get(word)\n",
        "    if embedding_vector is not None: embedding_matrix_3[i] = embedding_vector\n",
        "\n",
        "del embeddings_index; gc.collect()   "
      ],
      "execution_count": 87,
      "outputs": [
        {
          "output_type": "stream",
          "text": [
            "/usr/local/lib/python3.6/dist-packages/IPython/core/interactiveshell.py:2822: FutureWarning: arrays to stack must be passed as a \"sequence\" type such as list or tuple. Support for non-sequence iterables such as generators is deprecated as of NumPy 1.16 and will raise an error in the future.\n",
            "  if self.run_code(code, result):\n"
          ],
          "name": "stderr"
        },
        {
          "output_type": "execute_result",
          "data": {
            "text/plain": [
              "22"
            ]
          },
          "metadata": {
            "tags": []
          },
          "execution_count": 87
        }
      ]
    },
    {
      "cell_type": "markdown",
      "metadata": {
        "id": "NWmCuL9EsXl_",
        "colab_type": "text"
      },
      "source": [
        "Word2Vec"
      ]
    },
    {
      "cell_type": "code",
      "metadata": {
        "id": "M-wxP_Mdsbv4",
        "colab_type": "code",
        "outputId": "974fab80-d645-4ede-dcbb-d1a8404e1373",
        "colab": {
          "base_uri": "https://localhost:8080/",
          "height": 87
        }
      },
      "source": [
        "from gensim.models import KeyedVectors\n",
        "\n",
        "EMBEDDING_FILE = '/content/drive/My Drive/ML Project_Quora Insincere Data/ML Project/Embeddings/GoogleNews-vectors-negative300/GoogleNews-vectors-negative300.bin'\n",
        "embeddings_index = KeyedVectors.load_word2vec_format(EMBEDDING_FILE, binary=True)\n",
        "\n",
        "word_index = tokenizer.word_index\n",
        "nb_words = min(40000, len(word_index))\n",
        "embedding_matrix_4 = (np.random.rand(nb_words, embed_size) - 0.5) / 5.0\n",
        "for word, i in word_index.items():\n",
        "    if i >= 40000: continue\n",
        "    if word in embeddings_index:\n",
        "        embedding_vector = embeddings_index.get_vector(word)\n",
        "        embedding_matrix_4[i] = embedding_vector\n",
        "        \n",
        "del embeddings_index; gc.collect()    "
      ],
      "execution_count": 88,
      "outputs": [
        {
          "output_type": "stream",
          "text": [
            "/usr/local/lib/python3.6/dist-packages/smart_open/smart_open_lib.py:402: UserWarning: This function is deprecated, use smart_open.open instead. See the migration notes for details: https://github.com/RaRe-Technologies/smart_open/blob/master/README.rst#migrating-to-the-new-open-function\n",
            "  'See the migration notes for details: %s' % _MIGRATION_NOTES_URL\n"
          ],
          "name": "stderr"
        },
        {
          "output_type": "execute_result",
          "data": {
            "text/plain": [
              "0"
            ]
          },
          "metadata": {
            "tags": []
          },
          "execution_count": 88
        }
      ]
    },
    {
      "cell_type": "code",
      "metadata": {
        "id": "erqEB_BGsuam",
        "colab_type": "code",
        "outputId": "75960088-868a-4973-bf17-8a078413881d",
        "colab": {
          "base_uri": "https://localhost:8080/",
          "height": 34
        }
      },
      "source": [
        "embedding_matrix = np.concatenate((embedding_matrix_1, embedding_matrix_2, embedding_matrix_3, embedding_matrix_4), axis=1)  \n",
        "del embedding_matrix_1, embedding_matrix_2, embedding_matrix_3, embedding_matrix_4\n",
        "gc.collect()\n",
        "np.shape(embedding_matrix)"
      ],
      "execution_count": 89,
      "outputs": [
        {
          "output_type": "execute_result",
          "data": {
            "text/plain": [
              "(40000, 1200)"
            ]
          },
          "metadata": {
            "tags": []
          },
          "execution_count": 89
        }
      ]
    },
    {
      "cell_type": "code",
      "metadata": {
        "id": "s5NdFKiS7p9-",
        "colab_type": "code",
        "colab": {}
      },
      "source": [
        "from keras.models import Sequential\n",
        "from keras.layers import Dense, Conv2D, Flatten\n",
        "model = Sequential()\n",
        "#add model layers\n",
        "model.add(Embedding(40000, embed_size * 4, weights=[embedding_matrix], input_length=70))\n",
        "model.add(Conv1D(128, kernel_size=1, activation='relu', input_shape=(70, 32)))\n",
        "model.add(MaxPooling1D(pool_size=3))\n",
        "model.add(Conv1D(64, kernel_size=2, activation='relu'))\n",
        "model.add(Bidirectional(LSTM(256, return_sequences=True)))\n",
        "model.add(Flatten())\n",
        "model.add(Dense(100, activation='relu'))\n",
        "model.add(Dropout(0.1))\n",
        "model.add(Dense(1, activation='sigmoid'))\n"
      ],
      "execution_count": 0,
      "outputs": []
    },
    {
      "cell_type": "code",
      "metadata": {
        "id": "ZPSAE_ZCEUc4",
        "colab_type": "code",
        "colab": {}
      },
      "source": [
        "model.compile(optimizer='adam', loss='binary_crossentropy', metrics=['accuracy'])"
      ],
      "execution_count": 0,
      "outputs": []
    },
    {
      "cell_type": "code",
      "metadata": {
        "id": "AYAKD-cQFpon",
        "colab_type": "code",
        "colab": {}
      },
      "source": [
        "model.fit(train_X, train_y, validation_data=(test_X, test_y),batch_size=100, epochs=10, verbose=0)"
      ],
      "execution_count": 0,
      "outputs": []
    },
    {
      "cell_type": "code",
      "metadata": {
        "id": "LqRRbJC3p7UC",
        "colab_type": "code",
        "colab": {}
      },
      "source": [
        "pred=model.predict(test_data_X)"
      ],
      "execution_count": 0,
      "outputs": []
    },
    {
      "cell_type": "code",
      "metadata": {
        "id": "HHpNN6P4FxGE",
        "colab_type": "code",
        "outputId": "502dacdc-88ed-416f-dab1-1abc44acb253",
        "colab": {
          "base_uri": "https://localhost:8080/",
          "height": 1000
        }
      },
      "source": [
        "from sklearn.metrics import f1_score\n",
        "import numpy as np\n",
        "thresholds = []\n",
        "for thresh in np.arange(0.1, 1, 0.01):\n",
        "    thresh = np.round(thresh, 2)\n",
        "    r= f1_score(test_data_y, (pred>thresh).astype(int))\n",
        "    thresholds.append([thresh, r])\n",
        "    print(\"F1 score at threshold {0} is {1}\".format(thresh, r))\n",
        "\n",
        "thresholds.sort(key=lambda x: x[1], reverse=True)\n",
        "best_thresh = thresholds[0][0]\n",
        "print(\"Best threshold: \", best_thresh)"
      ],
      "execution_count": 52,
      "outputs": [
        {
          "output_type": "stream",
          "text": [
            "F1 score at threshold 0.1 is 0.9637122671804752\n",
            "F1 score at threshold 0.11 is 0.9654118404118406\n",
            "F1 score at threshold 0.12 is 0.967273899725939\n",
            "F1 score at threshold 0.13 is 0.9680490559948363\n",
            "F1 score at threshold 0.14 is 0.968659127625202\n",
            "F1 score at threshold 0.15 is 0.9691971865146738\n",
            "F1 score at threshold 0.16 is 0.9697362032691373\n",
            "F1 score at threshold 0.17 is 0.970197602850664\n",
            "F1 score at threshold 0.18 is 0.9709792477302205\n",
            "F1 score at threshold 0.19 is 0.9716743770797824\n",
            "F1 score at threshold 0.2 is 0.9725381865453364\n",
            "F1 score at threshold 0.21 is 0.9734038226921513\n",
            "F1 score at threshold 0.22 is 0.9740376007162043\n",
            "F1 score at threshold 0.23 is 0.9745886952272358\n",
            "F1 score at threshold 0.24 is 0.9752241238793806\n",
            "F1 score at threshold 0.25 is 0.9756972761376611\n",
            "F1 score at threshold 0.26 is 0.9759281925744594\n",
            "F1 score at threshold 0.27 is 0.9762429586088661\n",
            "F1 score at threshold 0.28 is 0.9772002941897524\n",
            "F1 score at threshold 0.29 is 0.9774362328319163\n",
            "F1 score at threshold 0.3 is 0.9779887079617053\n",
            "F1 score at threshold 0.31 is 0.9779778960294719\n",
            "F1 score at threshold 0.32 is 0.9778869778869779\n",
            "F1 score at threshold 0.33 is 0.977952626833866\n",
            "F1 score at threshold 0.34 is 0.9784928583155476\n",
            "F1 score at threshold 0.35 is 0.979444170366716\n",
            "F1 score at threshold 0.36 is 0.9794306401184796\n",
            "F1 score at threshold 0.37 is 0.979911081837642\n",
            "F1 score at threshold 0.38 is 0.9800658978583197\n",
            "F1 score at threshold 0.39 is 0.9802176063303659\n",
            "F1 score at threshold 0.4 is 0.9802886597938144\n",
            "F1 score at threshold 0.41 is 0.9801947516091764\n",
            "F1 score at threshold 0.42 is 0.9805961522582777\n",
            "F1 score at threshold 0.43 is 0.9806675479180437\n",
            "F1 score at threshold 0.44 is 0.98091066853979\n",
            "F1 score at threshold 0.45 is 0.9809075130176047\n",
            "F1 score at threshold 0.46 is 0.9808137611644062\n",
            "F1 score at threshold 0.47 is 0.9804732748634784\n",
            "F1 score at threshold 0.48 is 0.9805479678834534\n",
            "F1 score at threshold 0.49 is 0.9808663960904497\n",
            "F1 score at threshold 0.5 is 0.9807692307692308\n",
            "F1 score at threshold 0.51 is 0.9810100339995024\n",
            "F1 score at threshold 0.52 is 0.9808282845049382\n",
            "F1 score at threshold 0.53 is 0.9805680119581465\n",
            "F1 score at threshold 0.54 is 0.9805486284289276\n",
            "F1 score at threshold 0.55 is 0.9806140277893335\n",
            "F1 score at threshold 0.56 is 0.980434601615186\n",
            "F1 score at threshold 0.57 is 0.9807580174927114\n",
            "F1 score at threshold 0.58 is 0.9805\n",
            "F1 score at threshold 0.59 is 0.980408503543143\n",
            "F1 score at threshold 0.6 is 0.98039869880724\n",
            "F1 score at threshold 0.61 is 0.9807162534435262\n",
            "F1 score at threshold 0.62 is 0.9802906296976783\n",
            "F1 score at threshold 0.63 is 0.9803659453588438\n",
            "F1 score at threshold 0.64 is 0.9801069876295555\n",
            "F1 score at threshold 0.65 is 0.9802642582371633\n",
            "F1 score at threshold 0.66 is 0.9802510460251046\n",
            "F1 score at threshold 0.67 is 0.9804085733422638\n",
            "F1 score at threshold 0.68 is 0.9800603217158177\n",
            "F1 score at threshold 0.69 is 0.9792872117400419\n",
            "F1 score at threshold 0.7 is 0.9790233260614197\n",
            "F1 score at threshold 0.71 is 0.9790949542439762\n",
            "F1 score at threshold 0.72 is 0.978655462184874\n",
            "F1 score at threshold 0.73 is 0.9782937910146391\n",
            "F1 score at threshold 0.74 is 0.9781144781144782\n",
            "F1 score at threshold 0.75 is 0.9774106540795686\n",
            "F1 score at threshold 0.76 is 0.9767167200944828\n",
            "F1 score at threshold 0.77 is 0.9767952071555144\n",
            "F1 score at threshold 0.78 is 0.9764378008614137\n",
            "F1 score at threshold 0.79 is 0.9747927592623922\n",
            "F1 score at threshold 0.8 is 0.973994070309191\n",
            "F1 score at threshold 0.81 is 0.973032564450475\n",
            "F1 score at threshold 0.82 is 0.9724132077073253\n",
            "F1 score at threshold 0.83 is 0.9715353895828022\n",
            "F1 score at threshold 0.84 is 0.9707433236945059\n",
            "F1 score at threshold 0.85 is 0.9689843217450579\n",
            "F1 score at threshold 0.86 is 0.9681767767255354\n",
            "F1 score at threshold 0.87 is 0.9667549782069909\n",
            "F1 score at threshold 0.88 is 0.965505435247796\n",
            "F1 score at threshold 0.89 is 0.9639979427395852\n",
            "F1 score at threshold 0.9 is 0.9616772641347311\n",
            "F1 score at threshold 0.91 is 0.9589867310012063\n",
            "F1 score at threshold 0.92 is 0.9563639505746134\n",
            "F1 score at threshold 0.93 is 0.9531073936031897\n",
            "F1 score at threshold 0.94 is 0.950004347448048\n",
            "F1 score at threshold 0.95 is 0.9447649012410417\n",
            "F1 score at threshold 0.96 is 0.9389118396765403\n",
            "F1 score at threshold 0.97 is 0.9304509612828917\n",
            "F1 score at threshold 0.98 is 0.9181679662991844\n",
            "F1 score at threshold 0.99 is 0.894789854408937\n",
            "Best threshold:  0.51\n"
          ],
          "name": "stdout"
        }
      ]
    },
    {
      "cell_type": "code",
      "metadata": {
        "id": "sBh1JJvZ7H2D",
        "colab_type": "code",
        "colab": {}
      },
      "source": [
        "f1_score=[0.9637122671804752,\n",
        " 0.9654118404118406,\n",
        " 0.967273899725939,\n",
        " 0.9680490559948363,\n",
        " 0.968659127625202,\n",
        " 0.9691971865146738,\n",
        " 0.9697362032691373,\n",
        " 0.970197602850664,\n",
        " 0.9709792477302205,\n",
        " 0.9716743770797824,\n",
        "0.9725381865453364,\n",
        " 0.9734038226921513,\n",
        " 0.9740376007162043,\n",
        " 0.9745886952272358,\n",
        " 0.9752241238793806,\n",
        " 0.9756972761376611,\n",
        " 0.9759281925744594,\n",
        " 0.9762429586088661,\n",
        " 0.9772002941897524,\n",
        " 0.9774362328319163,\n",
        "0.9779887079617053,\n",
        " 0.9779778960294719,\n",
        " 0.9778869778869779,\n",
        " 0.977952626833866,\n",
        " 0.9784928583155476,\n",
        " 0.979444170366716,\n",
        " 0.9794306401184796,\n",
        " 0.979911081837642,\n",
        " 0.9800658978583197,\n",
        " 0.9802176063303659,\n",
        "0.9802886597938144,\n",
        " 0.9801947516091764,\n",
        " 0.9805961522582777,\n",
        " 0.9806675479180437,\n",
        " 0.98091066853979,\n",
        " 0.9809075130176047,\n",
        " 0.9808137611644062,\n",
        " 0.9804732748634784,\n",
        " 0.9805479678834534,\n",
        " 0.9808663960904497,\n",
        "0.9807692307692308,\n",
        " 0.9810100339995024,\n",
        " 0.9808282845049382,\n",
        " 0.9805680119581465,\n",
        " 0.9805486284289276,\n",
        " 0.9806140277893335,\n",
        " 0.980434601615186,\n",
        " 0.9807580174927114,\n",
        " 0.9805,\n",
        " 0.980408503543143,\n",
        "0.98039869880724,\n",
        " 0.9807162534435262,\n",
        " 0.9802906296976783,\n",
        " 0.9803659453588438,\n",
        " 0.9801069876295555,\n",
        " 0.9802642582371633,\n",
        " 0.9802510460251046,\n",
        " 0.9804085733422638,\n",
        " 0.9800603217158177,\n",
        " 0.9792872117400419,\n",
        "0.9790233260614197,\n",
        " 0.9790949542439762,\n",
        " 0.978655462184874,\n",
        " 0.9782937910146391,\n",
        " 0.9781144781144782,\n",
        " 0.9774106540795686,\n",
        " 0.9767167200944828,\n",
        " 0.9767952071555144,\n",
        " 0.9764378008614137,\n",
        " 0.9747927592623922,\n",
        "0.973994070309191,\n",
        " 0.973032564450475,\n",
        " 0.9724132077073253,\n",
        " 0.9715353895828022,\n",
        " 0.9707433236945059,\n",
        " 0.9689843217450579,\n",
        " 0.9681767767255354,\n",
        " 0.9667549782069909,\n",
        " 0.965505435247796,\n",
        " 0.9639979427395852,\n",
        "0.9616772641347311,\n",
        " 0.9589867310012063,\n",
        " 0.9563639505746134,\n",
        " 0.9531073936031897,\n",
        " 0.950004347448048,\n",
        " 0.9447649012410417,\n",
        " 0.9389118396765403,\n",
        " 0.9304509612828917,\n",
        " 0.9181679662991844,\n",
        " 0.894789854408937]"
      ],
      "execution_count": 0,
      "outputs": []
    },
    {
      "cell_type": "code",
      "metadata": {
        "id": "Flf9NfV5fVzX",
        "colab_type": "code",
        "colab": {
          "base_uri": "https://localhost:8080/",
          "height": 622
        },
        "outputId": "825d582f-6f2e-4379-b61b-779e09a74534"
      },
      "source": [
        "import seaborn as sns\n",
        "import numpy as np\n",
        "import matplotlib.pyplot as plt\n",
        "plt.figure(figsize=(20,10))\n",
        "sns.scatterplot(np.arange(0.1, 1, 0.01),f1_score)\n",
        "plt.xlabel('Threshold')\n",
        "plt.ylabel('F1 Score')"
      ],
      "execution_count": 13,
      "outputs": [
        {
          "output_type": "execute_result",
          "data": {
            "text/plain": [
              "Text(0, 0.5, 'F1 Score')"
            ]
          },
          "metadata": {
            "tags": []
          },
          "execution_count": 13
        },
        {
          "output_type": "display_data",
          "data": {
            "image/png": "[encoded data removed]",
            "text/plain": [
              "<Figure size 1440x720 with 1 Axes>"
            ]
          },
          "metadata": {
            "tags": []
          }
        }
      ]
    },
    {
      "cell_type": "code",
      "metadata": {
        "id": "j5k6p6f-fchc",
        "colab_type": "code",
        "colab": {}
      },
      "source": [
        ""
      ],
      "execution_count": 0,
      "outputs": []
    }
  ]
}